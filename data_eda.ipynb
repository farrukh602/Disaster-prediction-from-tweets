{
  "cells": [
    {
      "cell_type": "code",
      "execution_count": 1,
      "id": "c428aa87-11db-4c63-8cff-03f18955bf48",
      "metadata": {
        "id": "c428aa87-11db-4c63-8cff-03f18955bf48",
        "outputId": "5a9d2769-24de-4b18-f2b8-a7af08058178",
        "colab": {
          "base_uri": "https://localhost:8080/"
        }
      },
      "outputs": [
        {
          "output_type": "stream",
          "name": "stdout",
          "text": [
            "Cloning into 'NLP'...\n",
            "remote: Enumerating objects: 82, done.\u001b[K\n",
            "remote: Counting objects: 100% (82/82), done.\u001b[K\n",
            "remote: Compressing objects: 100% (74/74), done.\u001b[K\n",
            "remote: Total 82 (delta 26), reused 27 (delta 2), pack-reused 0\u001b[K\n",
            "Receiving objects: 100% (82/82), 3.37 MiB | 11.17 MiB/s, done.\n",
            "Resolving deltas: 100% (26/26), done.\n"
          ]
        }
      ],
      "source": [
        "!git clone https://github.com/farrukh602/NLP.git"
      ]
    },
    {
      "cell_type": "code",
      "execution_count": null,
      "id": "3641c856-0273-4245-90b1-5e18047e4768",
      "metadata": {
        "id": "3641c856-0273-4245-90b1-5e18047e4768"
      },
      "outputs": [],
      "source": [
        "!tar -xf nlp-getting-started.zip"
      ]
    },
    {
      "cell_type": "code",
      "execution_count": null,
      "id": "46720374-4b69-4e40-9f9d-f470c935bccd",
      "metadata": {
        "id": "46720374-4b69-4e40-9f9d-f470c935bccd"
      },
      "outputs": [],
      "source": []
    }
  ],
  "metadata": {
    "kernelspec": {
      "display_name": "Python 3 (ipykernel)",
      "language": "python",
      "name": "python3"
    },
    "language_info": {
      "codemirror_mode": {
        "name": "ipython",
        "version": 3
      },
      "file_extension": ".py",
      "mimetype": "text/x-python",
      "name": "python",
      "nbconvert_exporter": "python",
      "pygments_lexer": "ipython3",
      "version": "3.12.2"
    },
    "colab": {
      "provenance": []
    }
  },
  "nbformat": 4,
  "nbformat_minor": 5
}