{
 "cells": [
  {
   "cell_type": "code",
   "execution_count": 1,
   "id": "c428aa87-11db-4c63-8cff-03f18955bf48",
   "metadata": {},
   "outputs": [
    {
     "name": "stdout",
     "output_type": "stream",
     "text": [
      "Downloading nlp-getting-started.zip to C:\\Users\\Pakistan\\Git\\NLP\\Disaster-prediction-from-tweets\n",
      "\n"
     ]
    },
    {
     "name": "stderr",
     "output_type": "stream",
     "text": [
      "\n",
      "  0%|          | 0.00/593k [00:00<?, ?B/s]\n",
      "100%|##########| 593k/593k [00:02<00:00, 294kB/s]\n",
      "100%|##########| 593k/593k [00:02<00:00, 294kB/s]\n"
     ]
    }
   ],
   "source": [
    "!kaggle competitions download -c nlp-getting-started"
   ]
  },
  {
   "cell_type": "code",
   "execution_count": 2,
   "id": "3641c856-0273-4245-90b1-5e18047e4768",
   "metadata": {},
   "outputs": [],
   "source": [
    "!tar -xf nlp-getting-started.zip"
   ]
  },
  {
   "cell_type": "code",
   "execution_count": null,
   "id": "46720374-4b69-4e40-9f9d-f470c935bccd",
   "metadata": {},
   "outputs": [],
   "source": []
  }
 ],
 "metadata": {
  "kernelspec": {
   "display_name": "Python 3 (ipykernel)",
   "language": "python",
   "name": "python3"
  },
  "language_info": {
   "codemirror_mode": {
    "name": "ipython",
    "version": 3
   },
   "file_extension": ".py",
   "mimetype": "text/x-python",
   "name": "python",
   "nbconvert_exporter": "python",
   "pygments_lexer": "ipython3",
   "version": "3.12.2"
  }
 },
 "nbformat": 4,
 "nbformat_minor": 5
}
